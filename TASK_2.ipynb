{
  "nbformat": 4,
  "nbformat_minor": 0,
  "metadata": {
    "colab": {
      "name": "TASK_2.ipynb",
      "provenance": [],
      "authorship_tag": "ABX9TyNvsrgJ8nxSvFA1N5ssYxx8",
      "include_colab_link": true
    },
    "kernelspec": {
      "name": "python3",
      "display_name": "Python 3"
    }
  },
  "cells": [
    {
      "cell_type": "markdown",
      "metadata": {
        "id": "view-in-github",
        "colab_type": "text"
      },
      "source": [
        "<a href=\"https://colab.research.google.com/github/Amogha-Maiya/k-means-cluster/blob/main/TASK_2.ipynb\" target=\"_parent\"><img src=\"https://colab.research.google.com/assets/colab-badge.svg\" alt=\"Open In Colab\"/></a>"
      ]
    },
    {
      "cell_type": "markdown",
      "metadata": {
        "id": "Tq-wfeK0y7kU"
      },
      "source": [
        "CLUSTERING!!\n",
        "The method of identifying similar groups of data in a dataset is called clustering.\n",
        "K-MEANS CLUSTERING  is a popular algorithm.In these models, the no. of clusters required at the end have to be mentioned beforehand,\n",
        " which makes it important to have prior knowledge of the dataset. These models run iteratively to find the local optima.\n",
        "  These are iterative clustering algorithms in which the notion of similarity is derived by the closeness of a data point to the centroid of the clusters"
      ]
    },
    {
      "cell_type": "markdown",
      "metadata": {
        "id": "UCFghu-_zh0n"
      },
      "source": [
        "CLUSTERING --> CENTROID MODEL --> K-MEANS CLUSTERING --> ELBOW METHOD  "
      ]
    },
    {
      "cell_type": "markdown",
      "metadata": {
        "id": "6ufaq_QgO7Ij"
      },
      "source": [
        "basic idea behind partitioning methods, such as k-means clustering, is to define clusters such that the total intra-cluster variation\n",
        "[or total within-cluster sum of square (WSS)] is minimized. The total WSS measures the compactness of the clustering and we want it to be as small as possible.\n",
        "Compute clustering algorithm (e.g., k-means clustering) for different values of k. For instance, by varying k from 1 to 10 clusters.\n",
        "For each k, calculate the total within-cluster sum of square (wss).\n",
        "Plot the curve of wss according to the number of clusters k.\n",
        "The location of a bend (knee) in the plot is generally considered as an indicator of the appropriate number of clusters."
      ]
    },
    {
      "cell_type": "markdown",
      "metadata": {
        "id": "v8BnmdHS0Et2"
      },
      "source": [
        "WE IMPORT AND LOAD THE DATA HERE\n"
      ]
    },
    {
      "cell_type": "code",
      "metadata": {
        "id": "kXazrV9lPMFM"
      },
      "source": [
        "import numpy as np\n",
        "import matplotlib.pyplot as plt\n",
        "import pandas as pd\n",
        "from sklearn import datasets\n",
        "iris = datasets.load_iris()\n",
        "iris_df = pd.DataFrame(iris.data, columns = iris.feature_names)"
      ],
      "execution_count": null,
      "outputs": []
    },
    {
      "cell_type": "markdown",
      "metadata": {
        "id": "kG1ruYx20J4k"
      },
      "source": [
        "WE FIND THE NUMBER OF CLUSTERS(K) USING PLOTTING THE GRAPH THAT IS ELBOW METHOD!"
      ]
    },
    {
      "cell_type": "markdown",
      "metadata": {
        "id": "HF4c0vR81EoW"
      },
      "source": [
        "WE PLOT THE GRAPH K VS WCSS TO GET THE ELBOW POINT\n",
        "WCSS IS NOTHING BUT WITHIN CLUSTER SUM OF SQUARES THAT IS MINIMUM \n",
        "WHEN NO FURTHER CHANGE DATA POINT(JUMPING)IN CLUSTERING IS POSSIBLE.\n",
        "K=3 GIVES THE NUMBER OF CLUSTERS NEEDED USING THE GRAPH."
      ]
    },
    {
      "cell_type": "markdown",
      "metadata": {
        "id": "CJ3rzKjB1s9l"
      },
      "source": [
        ".INERTIA GIVES THE WCSS, WE APPEND THE VALUES OF KMEANS TO WCSS"
      ]
    },
    {
      "cell_type": "code",
      "metadata": {
        "id": "oVQzX2E_PaqF",
        "outputId": "2a953583-8e95-4dcc-c60a-a310ce884358",
        "colab": {
          "base_uri": "https://localhost:8080/",
          "height": 295
        }
      },
      "source": [
        "x = iris_df.iloc[:,:-1].values\n",
        "\n",
        "from sklearn.cluster import KMeans\n",
        "wcss = []\n",
        "for i in range(1,11):\n",
        "    kmeans = KMeans(n_clusters = i, init = 'k-means++', \n",
        "                    max_iter = 300, n_init = 10, random_state = 0)\n",
        "    kmeans.fit(x)\n",
        "    wcss.append(kmeans.inertia_)\n",
        "\n",
        "plt.plot(range(1, 11), wcss)\n",
        "plt.title('The elbow method')\n",
        "plt.xlabel('Number of clusters')\n",
        "plt.ylabel('WCSS') # Within cluster sum of squares\n",
        "plt.show()"
      ],
      "execution_count": null,
      "outputs": [
        {
          "output_type": "display_data",
          "data": {
            "image/png": "[encoded data removed]",
            "text/plain": [
              "<Figure size 432x288 with 1 Axes>"
            ]
          },
          "metadata": {
            "tags": [],
            "needs_background": "light"
          }
        }
      ]
    },
    {
      "cell_type": "markdown",
      "metadata": {
        "id": "2qAvknQ0bP8O"
      },
      "source": [
        "You can clearly see why it is called 'The elbow method' from the above graph, the optimum clusters is where the elbow occurs. This is when the within cluster sum of squares (WCSS) doesn't decrease significantly with every iteration.\n",
        "\n",
        "From this we choose the number of clusters as ** '3**'."
      ]
    },
    {
      "cell_type": "code",
      "metadata": {
        "id": "envTP2jSbbw_"
      },
      "source": [
        "# Applying kmeans to the dataset / Creating the kmeans classifier\n",
        "kmeans = KMeans(n_clusters = 3, init = 'k-means++',\n",
        "                max_iter = 300, n_init = 10, random_state = 0)\n",
        "y_kmeans = kmeans.fit_predict(x)"
      ],
      "execution_count": null,
      "outputs": []
    },
    {
      "cell_type": "code",
      "metadata": {
        "id": "4YIzhAP-yJWA",
        "outputId": "8f91f40d-1563-4911-b5d0-1935236a01ff",
        "colab": {
          "base_uri": "https://localhost:8080/",
          "height": 285
        }
      },
      "source": [
        "# Visualising the clusters - On the first two columns\n",
        "plt.scatter(x[y_kmeans == 0, 0], x[y_kmeans == 0, 1], \n",
        "            s = 50, c = 'red', label = 'Iris-setosa')\n",
        "plt.scatter(x[y_kmeans == 1, 0], x[y_kmeans == 1, 1], \n",
        "            s = 50, c = 'blue', label = 'Iris-versicolour')\n",
        "plt.scatter(x[y_kmeans == 2, 0], x[y_kmeans == 2, 1],\n",
        "            s = 50, c = 'green', label = 'Iris-virginica')\n",
        "\n",
        "# Plotting the centroids of the clusters\n",
        "plt.scatter(kmeans.cluster_centers_[:, 0], kmeans.cluster_centers_[:,1], \n",
        "            s = 50, c = 'yellow', label = 'Centroids')\n",
        "\n",
        "plt.legend()"
      ],
      "execution_count": null,
      "outputs": [
        {
          "output_type": "execute_result",
          "data": {
            "text/plain": [
              "<matplotlib.legend.Legend at 0x7f0fc6c265f8>"
            ]
          },
          "metadata": {
            "tags": []
          },
          "execution_count": 29
        },
        {
          "output_type": "display_data",
          "data": {
            "image/png": "[encoded data removed]",
            "text/plain": [
              "<Figure size 432x288 with 1 Axes>"
            ]
          },
          "metadata": {
            "tags": [],
            "needs_background": "light"
          }
        }
      ]
    }
  ]
}